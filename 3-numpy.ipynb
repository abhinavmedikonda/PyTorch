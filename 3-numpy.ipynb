{
 "cells": [
  {
   "cell_type": "code",
   "execution_count": 4,
   "id": "87fff849-4b6c-41df-8082-a0715e6e46a0",
   "metadata": {},
   "outputs": [],
   "source": [
    "import numpy as np\n",
    "import torch"
   ]
  },
  {
   "cell_type": "code",
   "execution_count": 6,
   "id": "ae92ac8e-2269-4e06-99d3-deb34a7e7b46",
   "metadata": {},
   "outputs": [
    {
     "data": {
      "text/plain": [
       "tensor([[0.0913, 0.2227, 0.4520],\n",
       "        [0.6387, 0.3716, 0.6379],\n",
       "        [0.0554, 0.8899, 0.4893],\n",
       "        [0.0611, 0.4982, 0.4076]])"
      ]
     },
     "execution_count": 6,
     "metadata": {},
     "output_type": "execute_result"
    }
   ],
   "source": [
    "t = torch.rand(4,3)\n",
    "t # this can be executed on GPUs"
   ]
  },
  {
   "cell_type": "code",
   "execution_count": 7,
   "id": "d7633035-4dc5-4c3c-b57e-c1b76dcbb807",
   "metadata": {},
   "outputs": [
    {
     "data": {
      "text/plain": [
       "torch.Tensor"
      ]
     },
     "execution_count": 7,
     "metadata": {},
     "output_type": "execute_result"
    }
   ],
   "source": [
    "type(t)"
   ]
  },
  {
   "cell_type": "code",
   "execution_count": 9,
   "id": "5411acd3-8f37-484a-8e36-3b18d815afa5",
   "metadata": {},
   "outputs": [
    {
     "data": {
      "text/plain": [
       "array([[0.091254  , 0.22271812, 0.45203382],\n",
       "       [0.63873565, 0.37164676, 0.6379075 ],\n",
       "       [0.0554384 , 0.88989574, 0.48929954],\n",
       "       [0.0610913 , 0.4982195 , 0.4075622 ]], dtype=float32)"
      ]
     },
     "execution_count": 9,
     "metadata": {},
     "output_type": "execute_result"
    }
   ],
   "source": [
    "a = t.numpy() # both share the same memory\n",
    "a # this cannot be executed on GPUs"
   ]
  },
  {
   "cell_type": "code",
   "execution_count": 10,
   "id": "29ef29cd-38cb-434e-883c-996fb54eee97",
   "metadata": {},
   "outputs": [
    {
     "data": {
      "text/plain": [
       "numpy.ndarray"
      ]
     },
     "execution_count": 10,
     "metadata": {},
     "output_type": "execute_result"
    }
   ],
   "source": [
    "type(a)"
   ]
  },
  {
   "cell_type": "code",
   "execution_count": 11,
   "id": "a721c67f-6999-4688-84b4-a458e62ce2b3",
   "metadata": {},
   "outputs": [
    {
     "data": {
      "text/plain": [
       "False"
      ]
     },
     "execution_count": 11,
     "metadata": {},
     "output_type": "execute_result"
    }
   ],
   "source": [
    "torch.is_tensor(a)"
   ]
  },
  {
   "cell_type": "code",
   "execution_count": 15,
   "id": "8b1cc3ed-2ff6-4b25-be9e-b3565609586b",
   "metadata": {},
   "outputs": [
    {
     "data": {
      "text/plain": [
       "True"
      ]
     },
     "execution_count": 15,
     "metadata": {},
     "output_type": "execute_result"
    }
   ],
   "source": [
    "torch.is_tensor(t)"
   ]
  },
  {
   "cell_type": "code",
   "execution_count": 18,
   "id": "8d7a2e9a-8344-4f84-88f9-3e00aaa0eaef",
   "metadata": {},
   "outputs": [
    {
     "data": {
      "text/plain": [
       "array([[1.1100000e+02, 2.2271812e-01, 4.5203382e-01],\n",
       "       [6.3873565e-01, 3.7164676e-01, 6.3790751e-01],\n",
       "       [5.5438399e-02, 8.8989574e-01, 4.8929954e-01],\n",
       "       [6.1091304e-02, 4.9821949e-01, 4.0756220e-01]], dtype=float32)"
      ]
     },
     "execution_count": 18,
     "metadata": {},
     "output_type": "execute_result"
    }
   ],
   "source": [
    "a[0,0] = 111\n",
    "a"
   ]
  },
  {
   "cell_type": "code",
   "execution_count": 19,
   "id": "635f2be5-950a-4ea1-bdd7-949a3515efc1",
   "metadata": {},
   "outputs": [
    {
     "data": {
      "text/plain": [
       "tensor([[1.1100e+02, 2.2272e-01, 4.5203e-01],\n",
       "        [6.3874e-01, 3.7165e-01, 6.3791e-01],\n",
       "        [5.5438e-02, 8.8990e-01, 4.8930e-01],\n",
       "        [6.1091e-02, 4.9822e-01, 4.0756e-01]])"
      ]
     },
     "execution_count": 19,
     "metadata": {},
     "output_type": "execute_result"
    }
   ],
   "source": [
    "t"
   ]
  },
  {
   "cell_type": "code",
   "execution_count": 21,
   "id": "53584216-28fe-4986-9366-3cb1e09c40e2",
   "metadata": {},
   "outputs": [
    {
     "data": {
      "text/plain": [
       "array([[0.31424543, 0.01476999, 0.55404347, 0.33842763],\n",
       "       [0.94621036, 0.36936783, 0.78898212, 0.56009893],\n",
       "       [0.16355441, 0.47683564, 0.55172876, 0.49297097]])"
      ]
     },
     "execution_count": 21,
     "metadata": {},
     "output_type": "execute_result"
    }
   ],
   "source": [
    "a = np.random.rand(3,4)\n",
    "a"
   ]
  },
  {
   "cell_type": "code",
   "execution_count": 22,
   "id": "cb8ffd19-bdc2-4481-824d-d91d6ace56d7",
   "metadata": {},
   "outputs": [
    {
     "data": {
      "text/plain": [
       "tensor([[0.3142, 0.0148, 0.5540, 0.3384],\n",
       "        [0.9462, 0.3694, 0.7890, 0.5601],\n",
       "        [0.1636, 0.4768, 0.5517, 0.4930]], dtype=torch.float64)"
      ]
     },
     "execution_count": 22,
     "metadata": {},
     "output_type": "execute_result"
    }
   ],
   "source": [
    "t = torch.from_numpy(a) # both share the same memory\n",
    "t"
   ]
  },
  {
   "cell_type": "code",
   "execution_count": 23,
   "id": "8e5b077b-f08d-4315-8e51-4a99ed738347",
   "metadata": {},
   "outputs": [
    {
     "data": {
      "text/plain": [
       "tensor([[0.3142, 0.0148, 0.5540, 0.3384],\n",
       "        [0.9462, 0.3694, 0.7890, 0.5601],\n",
       "        [0.1636, 0.4768, 0.5517, 0.4930]], dtype=torch.float64)"
      ]
     },
     "execution_count": 23,
     "metadata": {},
     "output_type": "execute_result"
    }
   ],
   "source": [
    "t1= torch.as_tensor(a) # memory allocation depends on type, dtype and device, use it to avoid unnecessary memory copies\n",
    "t1"
   ]
  },
  {
   "cell_type": "code",
   "execution_count": 24,
   "id": "d6ef8c48-015b-4dbd-8923-9476eab4f794",
   "metadata": {},
   "outputs": [
    {
     "data": {
      "text/plain": [
       "tensor([[0.3142, 0.0148, 0.5540, 0.3384],\n",
       "        [0.9462, 0.3694, 0.7890, 0.5601],\n",
       "        [0.1636, 0.4768, 0.5517, 0.4930]], dtype=torch.float64)"
      ]
     },
     "execution_count": 24,
     "metadata": {},
     "output_type": "execute_result"
    }
   ],
   "source": [
    "t2= torch.tensor(a) # new memory will be allocated\n",
    "t2"
   ]
  },
  {
   "cell_type": "code",
   "execution_count": null,
   "id": "2f480a9f-be4b-442f-9023-ce2309ec4bba",
   "metadata": {},
   "outputs": [],
   "source": []
  }
 ],
 "metadata": {
  "kernelspec": {
   "display_name": "Python 3 (ipykernel)",
   "language": "python",
   "name": "python3"
  },
  "language_info": {
   "codemirror_mode": {
    "name": "ipython",
    "version": 3
   },
   "file_extension": ".py",
   "mimetype": "text/x-python",
   "name": "python",
   "nbconvert_exporter": "python",
   "pygments_lexer": "ipython3",
   "version": "3.11.0"
  }
 },
 "nbformat": 4,
 "nbformat_minor": 5
}
