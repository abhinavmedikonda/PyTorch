{
 "cells": [
  {
   "cell_type": "code",
   "execution_count": 1,
   "id": "87926ab7-9945-4508-9c57-c4f7b76a89bd",
   "metadata": {},
   "outputs": [
    {
     "name": "stdout",
     "output_type": "stream",
     "text": [
      "2.2.2\n"
     ]
    }
   ],
   "source": [
    "import torch\n",
    "\n",
    "print(torch.__version__)"
   ]
  },
  {
   "cell_type": "code",
   "execution_count": 2,
   "id": "d9d3d364-93f3-4e43-aac5-0d3dbd0c7d82",
   "metadata": {},
   "outputs": [
    {
     "data": {
      "text/plain": [
       "torch.float32"
      ]
     },
     "execution_count": 2,
     "metadata": {},
     "output_type": "execute_result"
    }
   ],
   "source": [
    "torch.get_default_dtype()"
   ]
  },
  {
   "cell_type": "code",
   "execution_count": 3,
   "id": "d736492b-1acf-4700-b3b9-f2e59f2718ea",
   "metadata": {},
   "outputs": [
    {
     "data": {
      "text/plain": [
       "torch.float64"
      ]
     },
     "execution_count": 3,
     "metadata": {},
     "output_type": "execute_result"
    }
   ],
   "source": [
    "torch.set_default_dtype(torch.float64)\n",
    "torch.get_default_dtype()"
   ]
  },
  {
   "cell_type": "code",
   "execution_count": 4,
   "id": "368d3769-e875-4b0e-b795-f52b0b2c0809",
   "metadata": {},
   "outputs": [
    {
     "data": {
      "text/plain": [
       "tensor([[1., 2., 3.],\n",
       "        [4., 5., 6.]])"
      ]
     },
     "execution_count": 4,
     "metadata": {},
     "output_type": "execute_result"
    }
   ],
   "source": [
    "tensor_arr = torch.Tensor([[1,2,3], [4,5,6]])\n",
    "tensor_arr"
   ]
  },
  {
   "cell_type": "code",
   "execution_count": 5,
   "id": "e9c959fa-9497-4523-99a0-e4358b24a80f",
   "metadata": {},
   "outputs": [
    {
     "data": {
      "text/plain": [
       "True"
      ]
     },
     "execution_count": 5,
     "metadata": {},
     "output_type": "execute_result"
    }
   ],
   "source": [
    "torch.is_tensor(tensor_arr)"
   ]
  },
  {
   "cell_type": "code",
   "execution_count": 6,
   "id": "6bbb7583-2d63-4950-953b-03d072327762",
   "metadata": {},
   "outputs": [
    {
     "data": {
      "text/plain": [
       "6"
      ]
     },
     "execution_count": 6,
     "metadata": {},
     "output_type": "execute_result"
    }
   ],
   "source": [
    "torch.numel(tensor_arr)"
   ]
  },
  {
   "cell_type": "code",
   "execution_count": 7,
   "id": "199c4aec-c621-491b-a198-ede2ba7f7514",
   "metadata": {},
   "outputs": [
    {
     "data": {
      "text/plain": [
       "tensor([[0., 0.],\n",
       "        [0., 0.]])"
      ]
     },
     "execution_count": 7,
     "metadata": {},
     "output_type": "execute_result"
    }
   ],
   "source": [
    "tensor_uninitialized = torch.Tensor(2,2)\n",
    "tensor_uninitialized"
   ]
  },
  {
   "cell_type": "code",
   "execution_count": 8,
   "id": "117e02d9-fa55-49d3-8978-bd38d342d345",
   "metadata": {},
   "outputs": [
    {
     "data": {
      "text/plain": [
       "tensor([[0.5303, 0.2320, 0.9887],\n",
       "        [0.8276, 0.9775, 0.1976]])"
      ]
     },
     "execution_count": 8,
     "metadata": {},
     "output_type": "execute_result"
    }
   ],
   "source": [
    "tensor_initialized = torch.rand(2,3)\n",
    "tensor_initialized"
   ]
  },
  {
   "cell_type": "code",
   "execution_count": 9,
   "id": "f71b42a4-8b87-4611-9380-f6bc60806996",
   "metadata": {},
   "outputs": [
    {
     "data": {
      "text/plain": [
       "tensor([[2, 4],\n",
       "        [3, 1]], dtype=torch.int32)"
      ]
     },
     "execution_count": 9,
     "metadata": {},
     "output_type": "execute_result"
    }
   ],
   "source": [
    "tensor_custom = torch.tensor([[2,4],[3,1]]).type(torch.IntTensor)\n",
    "tensor_custom"
   ]
  },
  {
   "cell_type": "code",
   "execution_count": 10,
   "id": "20aa8376-8f53-4889-a418-4b865e96c6de",
   "metadata": {},
   "outputs": [
    {
     "data": {
      "text/plain": [
       "tensor([1, 2, 3], dtype=torch.int16)"
      ]
     },
     "execution_count": 10,
     "metadata": {},
     "output_type": "execute_result"
    }
   ],
   "source": [
    "tensor_short = torch.ShortTensor([1,2.0,3.0])\n",
    "tensor_short"
   ]
  },
  {
   "cell_type": "code",
   "execution_count": 11,
   "id": "8b56078f-bfb4-45e1-b0fc-4eb3564f9cbe",
   "metadata": {},
   "outputs": [
    {
     "data": {
      "text/plain": [
       "tensor([1., 2., 3.], dtype=torch.float16)"
      ]
     },
     "execution_count": 11,
     "metadata": {},
     "output_type": "execute_result"
    }
   ],
   "source": [
    "tensor_float = torch.tensor([1,2,3]).type(torch.half)\n",
    "tensor_float"
   ]
  },
  {
   "cell_type": "code",
   "execution_count": 12,
   "id": "fe5b40b9-99e0-46c7-8044-ed4b42bcbfcb",
   "metadata": {},
   "outputs": [
    {
     "data": {
      "text/plain": [
       "tensor([[14, 14, 14, 14, 14],\n",
       "        [14, 14, 14, 14, 14]])"
      ]
     },
     "execution_count": 12,
     "metadata": {},
     "output_type": "execute_result"
    }
   ],
   "source": [
    "tensor_fill = torch.full((2,5), fill_value=14)\n",
    "tensor_fill"
   ]
  },
  {
   "cell_type": "code",
   "execution_count": 13,
   "id": "56388a46-ed1a-4f85-9e3a-1e691d127ad7",
   "metadata": {},
   "outputs": [
    {
     "data": {
      "text/plain": [
       "tensor([[1, 1, 1, 1, 1, 1],\n",
       "        [1, 1, 1, 1, 1, 1]], dtype=torch.int32)"
      ]
     },
     "execution_count": 13,
     "metadata": {},
     "output_type": "execute_result"
    }
   ],
   "source": [
    "tensor_of_ones = torch.ones([2,6], dtype=torch.int32)\n",
    "tensor_of_ones"
   ]
  },
  {
   "cell_type": "code",
   "execution_count": 14,
   "id": "ff6ef39a-3a42-46ce-988f-91d5e6fd02b3",
   "metadata": {},
   "outputs": [
    {
     "data": {
      "text/plain": [
       "tensor([[0, 0, 0, 0, 0, 0],\n",
       "        [0, 0, 0, 0, 0, 0]], dtype=torch.int32)"
      ]
     },
     "execution_count": 14,
     "metadata": {},
     "output_type": "execute_result"
    }
   ],
   "source": [
    "tensor_of_zeros = torch.zeros_like(tensor_of_ones)\n",
    "tensor_of_zeros"
   ]
  },
  {
   "cell_type": "code",
   "execution_count": 15,
   "id": "ce4fd996-12f4-4b60-89fe-0796a973b1b4",
   "metadata": {},
   "outputs": [
    {
     "data": {
      "text/plain": [
       "tensor([[1., 0., 0., 0., 0.],\n",
       "        [0., 1., 0., 0., 0.],\n",
       "        [0., 0., 1., 0., 0.],\n",
       "        [0., 0., 0., 1., 0.],\n",
       "        [0., 0., 0., 0., 1.]])"
      ]
     },
     "execution_count": 15,
     "metadata": {},
     "output_type": "execute_result"
    }
   ],
   "source": [
    "tensor_eye = torch.eye(5)\n",
    "tensor_eye"
   ]
  },
  {
   "cell_type": "code",
   "execution_count": 16,
   "id": "d7c450b3-6fc5-4a71-b87e-0d8d70fd240c",
   "metadata": {},
   "outputs": [
    {
     "data": {
      "text/plain": [
       "tensor([[0, 0],\n",
       "        [1, 1],\n",
       "        [2, 2],\n",
       "        [3, 3],\n",
       "        [4, 4]])"
      ]
     },
     "execution_count": 16,
     "metadata": {},
     "output_type": "execute_result"
    }
   ],
   "source": [
    "non_zero_indicies = torch.nonzero(tensor_eye)\n",
    "non_zero_indicies"
   ]
  },
  {
   "cell_type": "code",
   "execution_count": 17,
   "id": "0606fc43-1624-494c-b8fe-5181c71a2f17",
   "metadata": {},
   "outputs": [
    {
     "data": {
      "text/plain": [
       "tensor([[0, 1, 1],\n",
       "        [2, 2, 0]])"
      ]
     },
     "execution_count": 17,
     "metadata": {},
     "output_type": "execute_result"
    }
   ],
   "source": [
    "indicies = torch.tensor([[0,1,1], [2,2,0]])\n",
    "indicies"
   ]
  },
  {
   "cell_type": "code",
   "execution_count": 18,
   "id": "4555e338-deb5-428a-9f0d-2148700a4574",
   "metadata": {},
   "outputs": [
    {
     "data": {
      "text/plain": [
       "tensor([3., 4., 5.], dtype=torch.float32)"
      ]
     },
     "execution_count": 18,
     "metadata": {},
     "output_type": "execute_result"
    }
   ],
   "source": [
    "values = torch.tensor([3,4,5], dtype=torch.float32)\n",
    "values"
   ]
  },
  {
   "cell_type": "code",
   "execution_count": 19,
   "id": "3982f8e3-6fc4-45dc-9402-c6542fe03199",
   "metadata": {},
   "outputs": [
    {
     "data": {
      "text/plain": [
       "tensor(indices=tensor([[0, 1, 1],\n",
       "                       [2, 2, 0]]),\n",
       "       values=tensor([3., 4., 5.]),\n",
       "       size=(2, 5), nnz=3, dtype=torch.float32, layout=torch.sparse_coo)"
      ]
     },
     "execution_count": 19,
     "metadata": {},
     "output_type": "execute_result"
    }
   ],
   "source": [
    "sparce_tensor = torch.sparse_coo_tensor(indicies, values, [2,5])\n",
    "sparce_tensor"
   ]
  },
  {
   "cell_type": "code",
   "execution_count": 20,
   "id": "8ee993f0-bf2c-4d31-8d5e-818850f5ca26",
   "metadata": {},
   "outputs": [
    {
     "data": {
      "text/plain": [
       "tensor([[0., 0., 3., 0., 0.],\n",
       "        [5., 0., 4., 0., 0.]], dtype=torch.float32)"
      ]
     },
     "execution_count": 20,
     "metadata": {},
     "output_type": "execute_result"
    }
   ],
   "source": [
    "dence_tensor = sparce_tensor.to_dense()\n",
    "dence_tensor"
   ]
  },
  {
   "cell_type": "code",
   "execution_count": 21,
   "id": "2da0fd8d-85d4-435f-80a6-510d9269a2cd",
   "metadata": {},
   "outputs": [
    {
     "data": {
      "text/plain": [
       "tensor([[5, 5],\n",
       "        [4, 7],\n",
       "        [7, 2],\n",
       "        [7, 8]])"
      ]
     },
     "execution_count": 21,
     "metadata": {},
     "output_type": "execute_result"
    }
   ],
   "source": [
    "initial = torch.randint(0, 10, (4, 2))\n",
    "initial"
   ]
  },
  {
   "cell_type": "code",
   "execution_count": 22,
   "id": "703f9c4c-8c2c-4e12-8ecc-2a5177d98fdc",
   "metadata": {},
   "outputs": [
    {
     "data": {
      "text/plain": [
       "tensor([[10, 10],\n",
       "        [ 9, 12],\n",
       "        [12,  7],\n",
       "        [12, 13]])"
      ]
     },
     "execution_count": 22,
     "metadata": {},
     "output_type": "execute_result"
    }
   ],
   "source": [
    "initial.add(5) # creates new tensor and returns"
   ]
  },
  {
   "cell_type": "code",
   "execution_count": 23,
   "id": "9563a4de-d66d-457c-ac16-a3e2c2fee861",
   "metadata": {},
   "outputs": [
    {
     "data": {
      "text/plain": [
       "tensor([[5, 5],\n",
       "        [4, 7],\n",
       "        [7, 2],\n",
       "        [7, 8]])"
      ]
     },
     "execution_count": 23,
     "metadata": {},
     "output_type": "execute_result"
    }
   ],
   "source": [
    "initial"
   ]
  },
  {
   "cell_type": "code",
   "execution_count": 24,
   "id": "fbdc3258-7586-4086-b584-467d244b47d6",
   "metadata": {},
   "outputs": [
    {
     "data": {
      "text/plain": [
       "tensor([[10, 10],\n",
       "        [ 9, 12],\n",
       "        [12,  7],\n",
       "        [12, 13]])"
      ]
     },
     "execution_count": 24,
     "metadata": {},
     "output_type": "execute_result"
    }
   ],
   "source": [
    "initial.add_(5) # changes current tensor like extension method"
   ]
  },
  {
   "cell_type": "code",
   "execution_count": 25,
   "id": "0944b2dd-a7cc-4206-a85e-6c0f70de7c6b",
   "metadata": {},
   "outputs": [
    {
     "data": {
      "text/plain": [
       "tensor([[10, 10],\n",
       "        [ 9, 12],\n",
       "        [12,  7],\n",
       "        [12, 13]])"
      ]
     },
     "execution_count": 25,
     "metadata": {},
     "output_type": "execute_result"
    }
   ],
   "source": [
    "initial"
   ]
  },
  {
   "cell_type": "code",
   "execution_count": 26,
   "id": "ae65ace3-626c-4a0a-b04a-701bf05741b7",
   "metadata": {},
   "outputs": [
    {
     "data": {
      "text/plain": [
       "tensor([[3.1623, 3.1623],\n",
       "        [3.0000, 3.4641],\n",
       "        [3.4641, 2.6458],\n",
       "        [3.4641, 3.6056]])"
      ]
     },
     "execution_count": 26,
     "metadata": {},
     "output_type": "execute_result"
    }
   ],
   "source": [
    "sqrt = initial.sqrt()\n",
    "sqrt"
   ]
  },
  {
   "cell_type": "code",
   "execution_count": 27,
   "id": "dfd1a8e2-7c56-4c12-ac1c-bae5c0472ab7",
   "metadata": {},
   "outputs": [
    {
     "data": {
      "text/plain": [
       "tensor([ 1.0000,  1.6429,  2.2857,  2.9286,  3.5714,  4.2143,  4.8571,  5.5000,\n",
       "         6.1429,  6.7857,  7.4286,  8.0714,  8.7143,  9.3571, 10.0000])"
      ]
     },
     "execution_count": 27,
     "metadata": {},
     "output_type": "execute_result"
    }
   ],
   "source": [
    "equal_space = torch.linspace(1, 10, 15)\n",
    "equal_space"
   ]
  },
  {
   "cell_type": "code",
   "execution_count": 28,
   "id": "628a9668-d3fe-4d90-8edf-18854e8cf003",
   "metadata": {},
   "outputs": [
    {
     "data": {
      "text/plain": [
       "(tensor([1.0000, 1.6429, 2.2857, 2.9286, 3.5714]),\n",
       " tensor([4.2143, 4.8571, 5.5000, 6.1429, 6.7857]),\n",
       " tensor([ 7.4286,  8.0714,  8.7143,  9.3571, 10.0000]))"
      ]
     },
     "execution_count": 28,
     "metadata": {},
     "output_type": "execute_result"
    }
   ],
   "source": [
    "tensor_chunk = torch.chunk(equal_space, 3)\n",
    "tensor_chunk"
   ]
  },
  {
   "cell_type": "code",
   "execution_count": 29,
   "id": "b58c6b22-b5dd-47ba-83bc-5135721678f8",
   "metadata": {},
   "outputs": [
    {
     "data": {
      "text/plain": [
       "tensor([ 1.0000,  1.6429,  2.2857,  2.9286,  3.5714,  2.0000,  3.0000,  4.0000,\n",
       "         7.4286,  8.0714,  8.7143,  9.3571, 10.0000])"
      ]
     },
     "execution_count": 29,
     "metadata": {},
     "output_type": "execute_result"
    }
   ],
   "source": [
    "tensor1 = tensor_chunk[0]\n",
    "tensor2 = torch.tensor([2,3,4])\n",
    "tensor3 = tensor_chunk[2]\n",
    "\n",
    "torch.cat((tensor1, tensor2, tensor3))"
   ]
  },
  {
   "cell_type": "code",
   "execution_count": 30,
   "id": "bb521492-f944-4e3d-9e33-d49b24d7cdf4",
   "metadata": {},
   "outputs": [
    {
     "data": {
      "text/plain": [
       "tensor([[1, 5, 9],\n",
       "        [0, 2, 9],\n",
       "        [4, 0, 0],\n",
       "        [9, 8, 5]])"
      ]
     },
     "execution_count": 30,
     "metadata": {},
     "output_type": "execute_result"
    }
   ],
   "source": [
    "random = torch.randint(0, 10, (4,3))\n",
    "random"
   ]
  },
  {
   "cell_type": "code",
   "execution_count": 31,
   "id": "a59593d7-183e-4153-9eae-217a02bf6d48",
   "metadata": {},
   "outputs": [
    {
     "data": {
      "text/plain": [
       "tensor(5)"
      ]
     },
     "execution_count": 31,
     "metadata": {},
     "output_type": "execute_result"
    }
   ],
   "source": [
    "random[0,1]"
   ]
  },
  {
   "cell_type": "code",
   "execution_count": 32,
   "id": "9622763a-bc6f-4914-8a26-d10d7371ad17",
   "metadata": {},
   "outputs": [
    {
     "data": {
      "text/plain": [
       "tensor([[5, 9],\n",
       "        [2, 9],\n",
       "        [0, 0],\n",
       "        [8, 5]])"
      ]
     },
     "execution_count": 32,
     "metadata": {},
     "output_type": "execute_result"
    }
   ],
   "source": [
    "random[0:, 1:]"
   ]
  },
  {
   "cell_type": "code",
   "execution_count": 33,
   "id": "0329d144-6f9e-4630-8f3f-16c04b9cc368",
   "metadata": {},
   "outputs": [
    {
     "data": {
      "text/plain": [
       "torch.Size([4, 2])"
      ]
     },
     "execution_count": 33,
     "metadata": {},
     "output_type": "execute_result"
    }
   ],
   "source": [
    "random[0:, 1:].size()"
   ]
  },
  {
   "cell_type": "code",
   "execution_count": 34,
   "id": "c0abac55-ea36-4d22-9cf8-e5135879988f",
   "metadata": {},
   "outputs": [
    {
     "data": {
      "text/plain": [
       "tensor([[1, 5, 9, 0, 2, 9],\n",
       "        [4, 0, 0, 9, 8, 5]])"
      ]
     },
     "execution_count": 34,
     "metadata": {},
     "output_type": "execute_result"
    }
   ],
   "source": [
    "resized_view = random.view(2,6) # view function does not create a new memory, its just like DB view\n",
    "resized_view"
   ]
  },
  {
   "cell_type": "code",
   "execution_count": 35,
   "id": "a3d0ba42-920b-456d-b4c7-bf363f97a210",
   "metadata": {},
   "outputs": [
    {
     "data": {
      "text/plain": [
       "tensor([[ 1,  5,  9,  0, 14,  9],\n",
       "        [ 4,  0,  0,  9,  8,  5]])"
      ]
     },
     "execution_count": 35,
     "metadata": {},
     "output_type": "execute_result"
    }
   ],
   "source": [
    "resized_view[0,4] = 14\n",
    "resized_view"
   ]
  },
  {
   "cell_type": "code",
   "execution_count": 36,
   "id": "6ce5983f-132a-493e-8935-a7bb974d415a",
   "metadata": {},
   "outputs": [
    {
     "data": {
      "text/plain": [
       "tensor([[ 1,  5,  9],\n",
       "        [ 0, 14,  9],\n",
       "        [ 4,  0,  0],\n",
       "        [ 9,  8,  5]])"
      ]
     },
     "execution_count": 36,
     "metadata": {},
     "output_type": "execute_result"
    }
   ],
   "source": [
    "random"
   ]
  },
  {
   "cell_type": "code",
   "execution_count": 37,
   "id": "929783f6-bf39-4100-b607-9ee7fb298224",
   "metadata": {},
   "outputs": [
    {
     "data": {
      "text/plain": [
       "tensor([[[1, 6, 6, 9],\n",
       "         [9, 8, 9, 2],\n",
       "         [8, 1, 4, 9]],\n",
       "\n",
       "        [[2, 5, 9, 8],\n",
       "         [7, 7, 7, 4],\n",
       "         [9, 9, 3, 9]]])"
      ]
     },
     "execution_count": 37,
     "metadata": {},
     "output_type": "execute_result"
    }
   ],
   "source": [
    "initial = torch.randint(0,10,(2, 3, 4))\n",
    "initial"
   ]
  },
  {
   "cell_type": "code",
   "execution_count": 38,
   "id": "483d0524-1617-465e-bee0-181a4459c700",
   "metadata": {},
   "outputs": [
    {
     "data": {
      "text/plain": [
       "torch.Size([2, 3, 4])"
      ]
     },
     "execution_count": 38,
     "metadata": {},
     "output_type": "execute_result"
    }
   ],
   "source": [
    "initial.shape"
   ]
  },
  {
   "cell_type": "code",
   "execution_count": 39,
   "id": "ffd63c32-6191-4274-bd20-743366652f02",
   "metadata": {},
   "outputs": [
    {
     "data": {
      "text/plain": [
       "torch.Size([1, 2, 1, 3, 1, 4, 1])"
      ]
     },
     "execution_count": 39,
     "metadata": {},
     "output_type": "execute_result"
    }
   ],
   "source": [
    "# add empty dimension at index\n",
    "initial = torch.unsqueeze(initial, 3)\n",
    "initial = torch.unsqueeze(initial, 2)\n",
    "initial = torch.unsqueeze(initial, 1)\n",
    "initial = torch.unsqueeze(initial, 0)\n",
    "initial.shape"
   ]
  },
  {
   "cell_type": "code",
   "execution_count": 40,
   "id": "fed15d08-2111-4c8f-acb9-bf504d98cc6b",
   "metadata": {},
   "outputs": [
    {
     "data": {
      "text/plain": [
       "torch.Size([1, 2, 3, 1, 4, 1])"
      ]
     },
     "execution_count": 40,
     "metadata": {},
     "output_type": "execute_result"
    }
   ],
   "source": [
    "# remove empty dimension at index\n",
    "initial = torch.squeeze(initial, 2)\n",
    "initial.shape"
   ]
  },
  {
   "cell_type": "code",
   "execution_count": 41,
   "id": "b90fd723-3a93-4406-b03d-078156d2a147",
   "metadata": {},
   "outputs": [
    {
     "data": {
      "text/plain": [
       "torch.Size([2, 3, 4])"
      ]
     },
     "execution_count": 41,
     "metadata": {},
     "output_type": "execute_result"
    }
   ],
   "source": [
    "# remove all empty dimensions\n",
    "initial = torch.squeeze(initial)\n",
    "initial.shape"
   ]
  },
  {
   "cell_type": "code",
   "execution_count": 42,
   "id": "3dab8a20-aaa6-4951-a16a-356ffa6a883b",
   "metadata": {},
   "outputs": [
    {
     "data": {
      "text/plain": [
       "tensor([[[1, 6, 6, 9],\n",
       "         [2, 5, 9, 8]],\n",
       "\n",
       "        [[9, 8, 9, 2],\n",
       "         [7, 7, 7, 4]],\n",
       "\n",
       "        [[8, 1, 4, 9],\n",
       "         [9, 9, 3, 9]]])"
      ]
     },
     "execution_count": 42,
     "metadata": {},
     "output_type": "execute_result"
    }
   ],
   "source": [
    "torch.transpose(initial, 0, 1) # swap dimensions at indexes"
   ]
  },
  {
   "cell_type": "code",
   "execution_count": 43,
   "id": "fac2d559-ec6d-4c27-baee-c5851815f661",
   "metadata": {},
   "outputs": [
    {
     "data": {
      "text/plain": [
       "torch.return_types.sort(\n",
       "values=tensor([[[1, 6, 6, 9],\n",
       "         [2, 8, 9, 9],\n",
       "         [1, 4, 8, 9]],\n",
       "\n",
       "        [[2, 5, 8, 9],\n",
       "         [4, 7, 7, 7],\n",
       "         [3, 9, 9, 9]]]),\n",
       "indices=tensor([[[0, 1, 2, 3],\n",
       "         [3, 1, 0, 2],\n",
       "         [1, 2, 0, 3]],\n",
       "\n",
       "        [[0, 1, 3, 2],\n",
       "         [3, 0, 1, 2],\n",
       "         [2, 0, 1, 3]]]))"
      ]
     },
     "execution_count": 43,
     "metadata": {},
     "output_type": "execute_result"
    }
   ],
   "source": [
    "torch.sort(initial) # by default sorts last dimension"
   ]
  },
  {
   "cell_type": "code",
   "execution_count": 44,
   "id": "d6bc0e84-2233-4360-b14e-cb4c02834d53",
   "metadata": {},
   "outputs": [
    {
     "data": {
      "text/plain": [
       "tensor([[-3,  0],\n",
       "        [-4,  3],\n",
       "        [-3, -2]])"
      ]
     },
     "execution_count": 44,
     "metadata": {},
     "output_type": "execute_result"
    }
   ],
   "source": [
    "integers = torch.randint(-9, 9, (3,2))\n",
    "integers"
   ]
  },
  {
   "cell_type": "code",
   "execution_count": 45,
   "id": "ccd0ea93-1d6b-419f-8f1e-fe3612a11d14",
   "metadata": {},
   "outputs": [
    {
     "data": {
      "text/plain": [
       "tensor([[3, 0],\n",
       "        [4, 3],\n",
       "        [3, 2]])"
      ]
     },
     "execution_count": 45,
     "metadata": {},
     "output_type": "execute_result"
    }
   ],
   "source": [
    "integers.abs()"
   ]
  },
  {
   "cell_type": "code",
   "execution_count": null,
   "id": "7fd9a772-56cc-4099-851e-fad5e6e64ab5",
   "metadata": {},
   "outputs": [],
   "source": []
  }
 ],
 "metadata": {
  "kernelspec": {
   "display_name": "Python 3 (ipykernel)",
   "language": "python",
   "name": "python3"
  },
  "language_info": {
   "codemirror_mode": {
    "name": "ipython",
    "version": 3
   },
   "file_extension": ".py",
   "mimetype": "text/x-python",
   "name": "python",
   "nbconvert_exporter": "python",
   "pygments_lexer": "ipython3",
   "version": "3.11.0"
  }
 },
 "nbformat": 4,
 "nbformat_minor": 5
}
