{
    "nbformat": 4,
    "nbformat_minor": 0,
    "metadata": {
      "colab": {
        "name": "CUDASemantics.ipynb",
        "provenance": [],
        "collapsed_sections": []
      },
      "kernelspec": {
        "name": "python3",
        "display_name": "Python 3"
      },
      "accelerator": "GPU"
    },
    "cells": [
      {
        "cell_type": "code",
        "metadata": {
          "id": "LSnl_TIf6Mjx",
          "colab_type": "code",
          "colab": {}
        },
        "source": [
          "import torch"
        ],
        "execution_count": 0,
        "outputs": []
      },
      {
        "cell_type": "code",
        "metadata": {
          "id": "sAIJ3igk7Q5v",
          "colab_type": "code",
          "colab": {
            "base_uri": "https://localhost:8080/",
            "height": 34
          },
          "outputId": "bed6e65f-dfef-4364-b477-c81defa345e6"
        },
        "source": [
          "torch.cuda.is_available()"
        ],
        "execution_count": 4,
        "outputs": [
          {
            "output_type": "execute_result",
            "data": {
              "text/plain": [
                "True"
              ]
            },
            "metadata": {
              "tags": []
            },
            "execution_count": 4
          }
        ]
      },
      {
        "cell_type": "code",
        "metadata": {
          "id": "3WfOlMe57T8R",
          "colab_type": "code",
          "colab": {
            "base_uri": "https://localhost:8080/",
            "height": 34
          },
          "outputId": "08292599-3a9e-44da-9e88-2558a2d3a3fe"
        },
        "source": [
          "torch.cuda.current_device()"
        ],
        "execution_count": 5,
        "outputs": [
          {
            "output_type": "execute_result",
            "data": {
              "text/plain": [
                "0"
              ]
            },
            "metadata": {
              "tags": []
            },
            "execution_count": 5
          }
        ]
      },
      {
        "cell_type": "code",
        "metadata": {
          "id": "hTWTLjuR7uyi",
          "colab_type": "code",
          "colab": {
            "base_uri": "https://localhost:8080/",
            "height": 34
          },
          "outputId": "7725d268-a3c7-41cd-b208-1f0d8a735efb"
        },
        "source": [
          "torch.cuda.device_count()"
        ],
        "execution_count": 6,
        "outputs": [
          {
            "output_type": "execute_result",
            "data": {
              "text/plain": [
                "1"
              ]
            },
            "metadata": {
              "tags": []
            },
            "execution_count": 6
          }
        ]
      },
      {
        "cell_type": "code",
        "metadata": {
          "id": "K7nR4I7f7zsg",
          "colab_type": "code",
          "colab": {
            "base_uri": "https://localhost:8080/",
            "height": 34
          },
          "outputId": "e2328daa-7ffe-4f0b-a92b-f8e7e4b3e9c4"
        },
        "source": [
          "# Use this function to monitor CUDA memory occupied by the tensors you allocate\n",
          "torch.cuda.memory_allocated()"
        ],
        "execution_count": 7,
        "outputs": [
          {
            "output_type": "execute_result",
            "data": {
              "text/plain": [
                "0"
              ]
            },
            "metadata": {
              "tags": []
            },
            "execution_count": 7
          }
        ]
      },
      {
        "cell_type": "code",
        "metadata": {
          "id": "NmFTYvno7_iA",
          "colab_type": "code",
          "colab": {
            "base_uri": "https://localhost:8080/",
            "height": 34
          },
          "outputId": "ddcfcfab-6a9c-4030-8991-dec90c0a9423"
        },
        "source": [
          "# Behind the scenes PyTorch uses a cachin memory allocator to speed up memory allocations - this allows fast memory deallocation without device synchronizations\n",
          "torch.cuda.memory_cached()"
        ],
        "execution_count": 8,
        "outputs": [
          {
            "output_type": "execute_result",
            "data": {
              "text/plain": [
                "0"
              ]
            },
            "metadata": {
              "tags": []
            },
            "execution_count": 8
          }
        ]
      },
      {
        "cell_type": "code",
        "metadata": {
          "id": "e6HJeshU8RQA",
          "colab_type": "code",
          "colab": {
            "base_uri": "https://localhost:8080/",
            "height": 34
          },
          "outputId": "fe43477c-2fda-47b8-9a8d-1795a877bd67"
        },
        "source": [
          "cuda = torch.device('cuda')\n",
          "cuda"
        ],
        "execution_count": 9,
        "outputs": [
          {
            "output_type": "execute_result",
            "data": {
              "text/plain": [
                "device(type='cuda')"
              ]
            },
            "metadata": {
              "tags": []
            },
            "execution_count": 9
          }
        ]
      },
      {
        "cell_type": "code",
        "metadata": {
          "id": "zadyhgt88eKv",
          "colab_type": "code",
          "colab": {}
        },
        "source": [
          "cuda0 = torch.device('cuda:0')"
        ],
        "execution_count": 0,
        "outputs": []
      },
      {
        "cell_type": "code",
        "metadata": {
          "id": "YRSGgCcw8h1R",
          "colab_type": "code",
          "colab": {
            "base_uri": "https://localhost:8080/",
            "height": 34
          },
          "outputId": "a78fc9e3-a650-41b2-98b1-5ecedef53b33"
        },
        "source": [
          "# On CPU\n",
          "x = torch.tensor([10, 20])\n",
          "x"
        ],
        "execution_count": 11,
        "outputs": [
          {
            "output_type": "execute_result",
            "data": {
              "text/plain": [
                "tensor([10, 20])"
              ]
            },
            "metadata": {
              "tags": []
            },
            "execution_count": 11
          }
        ]
      },
      {
        "cell_type": "code",
        "metadata": {
          "id": "PmGWSs_V8vgT",
          "colab_type": "code",
          "colab": {
            "base_uri": "https://localhost:8080/",
            "height": 34
          },
          "outputId": "3428c712-a8db-4129-c36d-059636a5c2d5"
        },
        "source": [
          "x_default = torch.tensor([10, 20], device=cuda)\n",
          "x_default"
        ],
        "execution_count": 13,
        "outputs": [
          {
            "output_type": "execute_result",
            "data": {
              "text/plain": [
                "tensor([10, 20], device='cuda:0')"
              ]
            },
            "metadata": {
              "tags": []
            },
            "execution_count": 13
          }
        ]
      },
      {
        "cell_type": "code",
        "metadata": {
          "id": "jNMmfXWk87aL",
          "colab_type": "code",
          "colab": {
            "base_uri": "https://localhost:8080/",
            "height": 34
          },
          "outputId": "f4f28aff-7f1a-4e75-bca5-d5e193f852b7"
        },
        "source": [
          "x0 = torch.tensor([10, 20], device=cuda0)\n",
          "x0"
        ],
        "execution_count": 14,
        "outputs": [
          {
            "output_type": "execute_result",
            "data": {
              "text/plain": [
                "tensor([10, 20], device='cuda:0')"
              ]
            },
            "metadata": {
              "tags": []
            },
            "execution_count": 14
          }
        ]
      },
      {
        "cell_type": "code",
        "metadata": {
          "id": "MUSlv1bA9IGW",
          "colab_type": "code",
          "colab": {
            "base_uri": "https://localhost:8080/",
            "height": 164
          },
          "outputId": "74de1e6c-4add-4563-f38f-59f0dcfb6d78"
        },
        "source": [
          "x1 = torch.tensor([10, 20], device=cuda1)"
        ],
        "execution_count": 15,
        "outputs": [
          {
            "output_type": "error",
            "ename": "NameError",
            "evalue": "ignored",
            "traceback": [
              "\u001b[0;31m---------------------------------------------------------------------------\u001b[0m",
              "\u001b[0;31mNameError\u001b[0m                                 Traceback (most recent call last)",
              "\u001b[0;32m<ipython-input-15-c18e393d6605>\u001b[0m in \u001b[0;36m<module>\u001b[0;34m()\u001b[0m\n\u001b[0;32m----> 1\u001b[0;31m \u001b[0mx1\u001b[0m \u001b[0;34m=\u001b[0m \u001b[0mtorch\u001b[0m\u001b[0;34m.\u001b[0m\u001b[0mtensor\u001b[0m\u001b[0;34m(\u001b[0m\u001b[0;34m[\u001b[0m\u001b[0;36m10\u001b[0m\u001b[0;34m,\u001b[0m \u001b[0;36m20\u001b[0m\u001b[0;34m]\u001b[0m\u001b[0;34m,\u001b[0m \u001b[0mdevice\u001b[0m\u001b[0;34m=\u001b[0m\u001b[0mcuda1\u001b[0m\u001b[0;34m)\u001b[0m\u001b[0;34m\u001b[0m\u001b[0;34m\u001b[0m\u001b[0m\n\u001b[0m",
              "\u001b[0;31mNameError\u001b[0m: name 'cuda1' is not defined"
            ]
          }
        ]
      },
      {
        "cell_type": "code",
        "metadata": {
          "id": "9c6LMQnw9QNG",
          "colab_type": "code",
          "colab": {
            "base_uri": "https://localhost:8080/",
            "height": 34
          },
          "outputId": "8b5c078f-ae49-42e5-eec1-da1e985c404a"
        },
        "source": [
          "# to bring tensor from CPU to GPU\n",
          "y = x.cuda()\n",
          "y"
        ],
        "execution_count": 16,
        "outputs": [
          {
            "output_type": "execute_result",
            "data": {
              "text/plain": [
                "tensor([10, 20], device='cuda:0')"
              ]
            },
            "metadata": {
              "tags": []
            },
            "execution_count": 16
          }
        ]
      },
      {
        "cell_type": "code",
        "metadata": {
          "id": "zEI30L3f9jaO",
          "colab_type": "code",
          "colab": {
            "base_uri": "https://localhost:8080/",
            "height": 68
          },
          "outputId": "d7ddac04-c3ac-4525-bae9-e53bcfebd823"
        },
        "source": [
          "print('Outside with context: ', torch.cuda.current_device())\n",
          "\n",
          "with torch.cuda.device(0):\n",
          "\n",
          "  print('Inside with context: ', torch.cuda.current_device())\n",
          "\n",
          "print('Outside with context again: ', torch.cuda.current_device())"
        ],
        "execution_count": 18,
        "outputs": [
          {
            "output_type": "stream",
            "text": [
              "Outside with context:  0\n",
              "Inside with context:  0\n",
              "Outside with context again:  0\n"
            ],
            "name": "stdout"
          }
        ]
      },
      {
        "cell_type": "code",
        "metadata": {
          "id": "-N7yFT0o-JUV",
          "colab_type": "code",
          "colab": {}
        },
        "source": [
          "torch.device('cpu')\n",
          "with torch.cuda.device(0):\n",
          "  a = torch.tensor([10, 20])\n",
          "  a0 = torch.tensor([10, 20], device=cuda0)\n",
          "  a1 = torch.tensor([10,20], device='cpu')"
        ],
        "execution_count": 0,
        "outputs": []
      },
      {
        "cell_type": "code",
        "metadata": {
          "id": "arK57nQE_Do7",
          "colab_type": "code",
          "colab": {
            "base_uri": "https://localhost:8080/",
            "height": 34
          },
          "outputId": "940a327d-1ab7-42a0-9c26-e693f92423eb"
        },
        "source": [
          "a"
        ],
        "execution_count": 24,
        "outputs": [
          {
            "output_type": "execute_result",
            "data": {
              "text/plain": [
                "tensor([10, 20])"
              ]
            },
            "metadata": {
              "tags": []
            },
            "execution_count": 24
          }
        ]
      },
      {
        "cell_type": "code",
        "metadata": {
          "id": "UywbO9t7_W_H",
          "colab_type": "code",
          "colab": {
            "base_uri": "https://localhost:8080/",
            "height": 34
          },
          "outputId": "4e964901-2a2a-485c-e237-4c637f27731e"
        },
        "source": [
          "a0"
        ],
        "execution_count": 25,
        "outputs": [
          {
            "output_type": "execute_result",
            "data": {
              "text/plain": [
                "tensor([10, 20], device='cuda:0')"
              ]
            },
            "metadata": {
              "tags": []
            },
            "execution_count": 25
          }
        ]
      },
      {
        "cell_type": "code",
        "metadata": {
          "id": "MO1lbEHG_ZrX",
          "colab_type": "code",
          "colab": {
            "base_uri": "https://localhost:8080/",
            "height": 34
          },
          "outputId": "dad85535-0c1a-40ee-aa09-65f423bc189a"
        },
        "source": [
          "a1"
        ],
        "execution_count": 26,
        "outputs": [
          {
            "output_type": "execute_result",
            "data": {
              "text/plain": [
                "tensor([10, 20])"
              ]
            },
            "metadata": {
              "tags": []
            },
            "execution_count": 26
          }
        ]
      },
      {
        "cell_type": "code",
        "metadata": {
          "id": "XlbJweo3_aux",
          "colab_type": "code",
          "colab": {}
        },
        "source": [
          "b1 = a0.to(device=cuda1)"
        ],
        "execution_count": 0,
        "outputs": []
      },
      {
        "cell_type": "code",
        "metadata": {
          "id": "8dfbBAy_AG_w",
          "colab_type": "code",
          "colab": {}
        },
        "source": [
          "# Operations cannot be peformed on tensors on different CUDA devices"
        ],
        "execution_count": 0,
        "outputs": []
      },
      {
        "cell_type": "code",
        "metadata": {
          "id": "2jgL3MusAcFQ",
          "colab_type": "code",
          "colab": {
            "base_uri": "https://localhost:8080/",
            "height": 34
          },
          "outputId": "7269b048-6053-4d7d-a565-01c76893a869"
        },
        "source": [
          "torch.cuda.memory_allocated()"
        ],
        "execution_count": 30,
        "outputs": [
          {
            "output_type": "execute_result",
            "data": {
              "text/plain": [
                "3072"
              ]
            },
            "metadata": {
              "tags": []
            },
            "execution_count": 30
          }
        ]
      },
      {
        "cell_type": "code",
        "metadata": {
          "id": "fGn0Fv99Ad96",
          "colab_type": "code",
          "colab": {
            "base_uri": "https://localhost:8080/",
            "height": 34
          },
          "outputId": "fb16d7e4-9257-422a-8a7b-3a99bc161d32"
        },
        "source": [
          "torch.cuda.memory_cached()"
        ],
        "execution_count": 31,
        "outputs": [
          {
            "output_type": "execute_result",
            "data": {
              "text/plain": [
                "2097152"
              ]
            },
            "metadata": {
              "tags": []
            },
            "execution_count": 31
          }
        ]
      },
      {
        "cell_type": "code",
        "metadata": {
          "id": "hXD2nU1OAkoT",
          "colab_type": "code",
          "colab": {}
        },
        "source": [
          "torch.cuda.empty_cache() #Gets rid of UNUSED memory in cached"
        ],
        "execution_count": 0,
        "outputs": []
      },
      {
        "cell_type": "code",
        "metadata": {
          "id": "MJDgnf5XAng0",
          "colab_type": "code",
          "colab": {
            "base_uri": "https://localhost:8080/",
            "height": 34
          },
          "outputId": "bcbe67a7-245b-43c9-d411-5c6e13a04bb8"
        },
        "source": [
          "torch.cuda.memory_cached()"
        ],
        "execution_count": 33,
        "outputs": [
          {
            "output_type": "execute_result",
            "data": {
              "text/plain": [
                "2097152"
              ]
            },
            "metadata": {
              "tags": []
            },
            "execution_count": 33
          }
        ]
      },
      {
        "cell_type": "code",
        "metadata": {
          "id": "V2l4IF0GAzDm",
          "colab_type": "code",
          "colab": {
            "base_uri": "https://localhost:8080/",
            "height": 51
          },
          "outputId": "8a48a037-9967-4ac3-f4cb-6c8499c85f9f"
        },
        "source": [
          "# Operations prefixed with \"new_\" create new tensors of the same type on the same device\n",
          "preserve_context = x.new_full([2,2], fill_value=1.1)\n",
          "preserve_context"
        ],
        "execution_count": 34,
        "outputs": [
          {
            "output_type": "execute_result",
            "data": {
              "text/plain": [
                "tensor([[1, 1],\n",
                "        [1, 1]])"
              ]
            },
            "metadata": {
              "tags": []
            },
            "execution_count": 34
          }
        ]
      },
      {
        "cell_type": "code",
        "metadata": {
          "id": "3eeMxPVsBIhq",
          "colab_type": "code",
          "colab": {
            "base_uri": "https://localhost:8080/",
            "height": 51
          },
          "outputId": "baa2493c-974b-4368-f10e-6aad8b121f7d"
        },
        "source": [
          "preserve_context0 = x0.new_full([2,2], fill_value=1.1)\n",
          "preserve_context0"
        ],
        "execution_count": 35,
        "outputs": [
          {
            "output_type": "execute_result",
            "data": {
              "text/plain": [
                "tensor([[1, 1],\n",
                "        [1, 1]], device='cuda:0')"
              ]
            },
            "metadata": {
              "tags": []
            },
            "execution_count": 35
          }
        ]
      },
      {
        "cell_type": "code",
        "metadata": {
          "id": "x5EqXrKrBURb",
          "colab_type": "code",
          "colab": {}
        },
        "source": [
          ""
        ],
        "execution_count": 0,
        "outputs": []
      }
    ]
  }