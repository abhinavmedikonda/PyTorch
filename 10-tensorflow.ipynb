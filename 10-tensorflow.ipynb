{
 "cells": [
  {
   "cell_type": "markdown",
   "metadata": {},
   "source": [
    "#### tensorflow Static Computational Graph"
   ]
  },
  {
   "cell_type": "code",
   "execution_count": 21,
   "metadata": {},
   "outputs": [
    {
     "name": "stdout",
     "output_type": "stream",
     "text": [
      "Wx+b = [ 63 123 183]\n",
      "\n",
      "Tensor details:\n",
      "W: 6\n",
      "b: 3\n",
      "x_input: [10 20 30]\n",
      "y_result: [ 63 123 183]\n"
     ]
    }
   ],
   "source": [
    "import tensorflow as tf\n",
    "\n",
    "# Define variables and constants\n",
    "W = tf.Variable(6, name='var_W', dtype=tf.int32)\n",
    "b = tf.constant(3, name='constant_b', dtype=tf.int32)\n",
    "\n",
    "# Define a function for computation\n",
    "@tf.function\n",
    "def compute_y(x):\n",
    "    return W * x + b\n",
    "\n",
    "# Run the computation\n",
    "x_input = tf.constant([10, 20, 30], dtype=tf.int32)\n",
    "y_result = compute_y(x_input)\n",
    "\n",
    "print(\"Wx+b =\", y_result.numpy())\n",
    "\n",
    "print(\"\\nTensor details:\")\n",
    "print(\"W:\", W.numpy())\n",
    "print(\"b:\", b.numpy())\n",
    "print(\"x_input:\", x_input.numpy())\n",
    "print(\"y_result:\", y_result.numpy())"
   ]
  },
  {
   "cell_type": "markdown",
   "metadata": {},
   "source": [
    "#### tensorflow Dynamic Computational Graph"
   ]
  },
  {
   "cell_type": "code",
   "execution_count": 20,
   "metadata": {},
   "outputs": [
    {
     "name": "stdout",
     "output_type": "stream",
     "text": [
      "Wx + b = [ 63 123 183]\n",
      "\n",
      "Tensor details:\n",
      "W: 6\n",
      "b: 3\n",
      "x_input: [10 20 30]\n",
      "y_result: [ 63 123 183]\n"
     ]
    }
   ],
   "source": [
    "import tensorflow as tf\n",
    "\n",
    "# Define variables and constants\n",
    "W = tf.Variable(6, name='var_W', dtype=tf.int32)\n",
    "b = tf.constant(3, name='constant_b', dtype=tf.int32)\n",
    "\n",
    "# Simulate input\n",
    "x_input = tf.constant([10, 20, 30], dtype=tf.int32)\n",
    "\n",
    "# Dynamic computation (eager mode)\n",
    "y_result = W * x_input + b\n",
    "\n",
    "# Print result\n",
    "print(\"Wx + b =\", y_result.numpy())\n",
    "\n",
    "# Print operations is not applicable in eager mode, but we can inspect tensors directly\n",
    "print(\"\\nTensor details:\")\n",
    "print(\"W:\", W.numpy())\n",
    "print(\"b:\", b.numpy())\n",
    "print(\"x_input:\", x_input.numpy())\n",
    "print(\"y_result:\", y_result.numpy())"
   ]
  },
  {
   "cell_type": "code",
   "execution_count": null,
   "metadata": {},
   "outputs": [],
   "source": []
  }
 ],
 "metadata": {
  "kernelspec": {
   "display_name": "Python 3 (ipykernel)",
   "language": "python",
   "name": "python3"
  },
  "language_info": {
   "codemirror_mode": {
    "name": "ipython",
    "version": 3
   },
   "file_extension": ".py",
   "mimetype": "text/x-python",
   "name": "python",
   "nbconvert_exporter": "python",
   "pygments_lexer": "ipython3",
   "version": "3.11.0"
  }
 },
 "nbformat": 4,
 "nbformat_minor": 4
}
