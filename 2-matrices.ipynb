{
 "cells": [
  {
   "cell_type": "code",
   "execution_count": 1,
   "id": "7e70fe86-a2b7-42db-acff-6d6aab4b5fec",
   "metadata": {},
   "outputs": [],
   "source": [
    "import torch"
   ]
  },
  {
   "cell_type": "code",
   "execution_count": 2,
   "id": "d1aa4ab6-90f9-4c9a-a73e-9aa81e342a18",
   "metadata": {},
   "outputs": [
    {
     "data": {
      "text/plain": [
       "tensor([[ 9, 13,  6,  6],\n",
       "        [ 4,  9, 11,  6]])"
      ]
     },
     "execution_count": 2,
     "metadata": {},
     "output_type": "execute_result"
    }
   ],
   "source": [
    "a = torch.randint(1, 9, (2, 4))\n",
    "b = torch.randint(1, 9, (2, 4))\n",
    "c = torch.add(a, b)\n",
    "c"
   ]
  },
  {
   "cell_type": "code",
   "execution_count": 3,
   "id": "a698165b-41a2-44cc-bf18-473ca56b137d",
   "metadata": {},
   "outputs": [
    {
     "data": {
      "text/plain": [
       "tensor([[0.7778, 0.4615, 0.1667, 0.8333],\n",
       "        [0.7500, 0.3333, 0.7273, 0.3333]])"
      ]
     },
     "execution_count": 3,
     "metadata": {},
     "output_type": "execute_result"
    }
   ],
   "source": [
    "torch.div(a, c)"
   ]
  },
  {
   "cell_type": "code",
   "execution_count": 4,
   "id": "7ebb3451-c912-446e-9f9a-c85325439f02",
   "metadata": {},
   "outputs": [
    {
     "data": {
      "text/plain": [
       "tensor([[ 81, 169,  36,  36],\n",
       "        [ 16,  81, 121,  36]])"
      ]
     },
     "execution_count": 4,
     "metadata": {},
     "output_type": "execute_result"
    }
   ],
   "source": [
    "torch.mul(c, c)"
   ]
  },
  {
   "cell_type": "code",
   "execution_count": 5,
   "id": "5147397f-401f-46d5-9238-2df04db5396c",
   "metadata": {},
   "outputs": [
    {
     "data": {
      "text/plain": [
       "tensor([[9, 9, 6, 6],\n",
       "        [5, 9, 9, 6]])"
      ]
     },
     "execution_count": 5,
     "metadata": {},
     "output_type": "execute_result"
    }
   ],
   "source": [
    "torch.clamp(c, min=5, max=9)"
   ]
  },
  {
   "cell_type": "code",
   "execution_count": 6,
   "id": "a6ec751f-0d1a-4613-b0e7-8054b076578e",
   "metadata": {},
   "outputs": [
    {
     "data": {
      "text/plain": [
       "tensor([[7, 6, 1, 5],\n",
       "        [3, 3, 8, 2]])"
      ]
     },
     "execution_count": 6,
     "metadata": {},
     "output_type": "execute_result"
    }
   ],
   "source": [
    "a"
   ]
  },
  {
   "cell_type": "code",
   "execution_count": 7,
   "id": "f7a13e52-582a-4b80-91b7-36248599a1ef",
   "metadata": {},
   "outputs": [
    {
     "data": {
      "text/plain": [
       "tensor([[2, 1],\n",
       "        [7, 6],\n",
       "        [5, 3],\n",
       "        [1, 4]])"
      ]
     },
     "execution_count": 7,
     "metadata": {},
     "output_type": "execute_result"
    }
   ],
   "source": [
    "b.transpose(0,1)"
   ]
  },
  {
   "cell_type": "code",
   "execution_count": 8,
   "id": "6a2e041d-158a-4d4a-b5a8-93c61ee47ebf",
   "metadata": {},
   "outputs": [
    {
     "data": {
      "text/plain": [
       "tensor([[20, 21],\n",
       "        [46, 16]])"
      ]
     },
     "execution_count": 8,
     "metadata": {},
     "output_type": "execute_result"
    }
   ],
   "source": [
    "torch.matmul(a[0:,2:],b[0:,2:]) # multi dimension"
   ]
  },
  {
   "cell_type": "code",
   "execution_count": 9,
   "id": "f6f8a421-b343-4004-944d-5d43b476345a",
   "metadata": {},
   "outputs": [
    {
     "data": {
      "text/plain": [
       "tensor(40)"
      ]
     },
     "execution_count": 9,
     "metadata": {},
     "output_type": "execute_result"
    }
   ],
   "source": [
    "v1 = torch.tensor([1, 2, 3, 4])\n",
    "v2 = torch.tensor([2, 3, 4, 5])\n",
    "torch.dot(v1, v2) # single dimension"
   ]
  },
  {
   "cell_type": "code",
   "execution_count": 10,
   "id": "64c6a831-f3fa-47a9-a488-2bb3ca42e0cd",
   "metadata": {},
   "outputs": [
    {
     "data": {
      "text/plain": [
       "tensor([42, 41])"
      ]
     },
     "execution_count": 10,
     "metadata": {},
     "output_type": "execute_result"
    }
   ],
   "source": [
    "matrix_vector = torch.mv(a, v1)\n",
    "matrix_vector"
   ]
  },
  {
   "cell_type": "code",
   "execution_count": 11,
   "id": "8c23c4c1-dbab-4952-adb2-70c21a494466",
   "metadata": {},
   "outputs": [
    {
     "data": {
      "text/plain": [
       "tensor([[66, 66],\n",
       "        [69, 53]])"
      ]
     },
     "execution_count": 11,
     "metadata": {},
     "output_type": "execute_result"
    }
   ],
   "source": [
    "matrix_mul = torch.mm(a, b.transpose(0,1))\n",
    "matrix_mul"
   ]
  },
  {
   "cell_type": "code",
   "execution_count": 12,
   "id": "cef802f9-4419-45df-9c5a-7aa14f458450",
   "metadata": {},
   "outputs": [
    {
     "data": {
      "text/plain": [
       "tensor([[ 9, 13,  6,  6],\n",
       "        [ 4,  9, 11,  6]])"
      ]
     },
     "execution_count": 12,
     "metadata": {},
     "output_type": "execute_result"
    }
   ],
   "source": [
    "c"
   ]
  },
  {
   "cell_type": "code",
   "execution_count": 13,
   "id": "17df7a1b-e883-4648-b1c4-70d13a54e7cc",
   "metadata": {},
   "outputs": [
    {
     "data": {
      "text/plain": [
       "tensor([0, 0, 1, 0])"
      ]
     },
     "execution_count": 13,
     "metadata": {},
     "output_type": "execute_result"
    }
   ],
   "source": [
    "indicies = c.argmax(0) # maximums in dimension 0\n",
    "indicies"
   ]
  },
  {
   "cell_type": "code",
   "execution_count": 14,
   "id": "ce495838-deaf-41c9-ba39-3638aab92ab6",
   "metadata": {},
   "outputs": [
    {
     "data": {
      "text/plain": [
       "tensor([1, 2])"
      ]
     },
     "execution_count": 14,
     "metadata": {},
     "output_type": "execute_result"
    }
   ],
   "source": [
    "indicies = c.argmax(1) # maximums in dimension 1\n",
    "indicies"
   ]
  },
  {
   "cell_type": "code",
   "execution_count": 15,
   "id": "f4501a1f-f63f-4140-916f-932e3d99eeb8",
   "metadata": {},
   "outputs": [
    {
     "data": {
      "text/plain": [
       "tensor(1)"
      ]
     },
     "execution_count": 15,
     "metadata": {},
     "output_type": "execute_result"
    }
   ],
   "source": [
    "index = c.argmax() # maximum in entire set\n",
    "index"
   ]
  },
  {
   "cell_type": "code",
   "execution_count": 16,
   "id": "7ddbe5be-d957-47d2-b4f2-7fbc03c2fcbb",
   "metadata": {},
   "outputs": [
    {
     "data": {
      "text/plain": [
       "torch.return_types.max(\n",
       "values=tensor([ 9, 13, 11,  6]),\n",
       "indices=tensor([0, 0, 1, 0]))"
      ]
     },
     "execution_count": 16,
     "metadata": {},
     "output_type": "execute_result"
    }
   ],
   "source": [
    "maxs = c.max(0) # maximums in dimension 0\n",
    "maxs"
   ]
  },
  {
   "cell_type": "code",
   "execution_count": null,
   "id": "26a5e39b-9fa6-493c-b36e-e45c9e858543",
   "metadata": {},
   "outputs": [],
   "source": []
  }
 ],
 "metadata": {
  "kernelspec": {
   "display_name": "Python 3 (ipykernel)",
   "language": "python",
   "name": "python3"
  },
  "language_info": {
   "codemirror_mode": {
    "name": "ipython",
    "version": 3
   },
   "file_extension": ".py",
   "mimetype": "text/x-python",
   "name": "python",
   "nbconvert_exporter": "python",
   "pygments_lexer": "ipython3",
   "version": "3.11.0"
  }
 },
 "nbformat": 4,
 "nbformat_minor": 5
}
